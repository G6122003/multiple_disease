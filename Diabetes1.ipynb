{
 "cells": [
  {
   "cell_type": "code",
   "execution_count": 1,
   "id": "615b8142-97a8-47d5-bf8c-5862f8a89ac6",
   "metadata": {},
   "outputs": [],
   "source": [
    "import numpy as np\n",
    "import pandas as pd\n",
    "import os\n",
    "for dirname, _, filenames in os.walk('/kaggle/input'):\n",
    "    for filename in filenames:\n",
    "        print(os.path.join(dirname, filename))"
   ]
  },
  {
   "cell_type": "code",
   "execution_count": 2,
   "id": "c4588039-ede9-4cee-8bff-3d8b8cbb383f",
   "metadata": {},
   "outputs": [],
   "source": [
    "diabetes=pd.read_csv('diabetes.csv')#dataset imported\n"
   ]
  },
  {
   "cell_type": "code",
   "execution_count": 4,
   "id": "4af6633f-84c3-4f04-a318-252167fc32a6",
   "metadata": {},
   "outputs": [
    {
     "name": "stdout",
     "output_type": "stream",
     "text": [
      "Pregnancies yes\n",
      "Glucose yes\n",
      "BloodPressure yes\n",
      "SkinThickness yes\n",
      "Insulin yes\n",
      "BMI yes\n",
      "DiabetesPedigreeFunction yes\n",
      "Age yes\n",
      "Outcome yes\n"
     ]
    }
   ],
   "source": [
    "for feature in diabetes:\n",
    "    Q1=diabetes[feature].quantile(0.25)\n",
    "    Q3=diabetes[feature].quantile(0.75)\n",
    "    IQR=Q3-Q1\n",
    "    lower=Q1-1.5*IQR#Any value below the lower threshold is considered a low outlier.\n",
    "    upper=Q3-1.5*IQR#Any value below the higher threshold is considered a higher outlier.\n",
    "    if diabetes[(diabetes[feature]>upper)].any(axis=None):\n",
    "        print(feature,\"yes\")\n",
    "    else:\n",
    "        print(feature,\"no\")"
   ]
  },
  {
   "cell_type": "code",
   "execution_count": 5,
   "id": "aaa6e975-b554-4cf0-a26e-5b5029ba6c1f",
   "metadata": {},
   "outputs": [
    {
     "name": "stdout",
     "output_type": "stream",
     "text": [
      "                    Feature  Outlier Count\n",
      "0               Pregnancies              4\n",
      "1                   Glucose              5\n",
      "2             BloodPressure             45\n",
      "3             SkinThickness              1\n",
      "4                   Insulin             34\n",
      "5                       BMI             19\n",
      "6  DiabetesPedigreeFunction             29\n",
      "7                       Age              9\n"
     ]
    }
   ],
   "source": [
    "# Exclude the target variable 'Outcome'\n",
    "features = diabetes.columns.drop(\"Outcome\")  \n",
    "\n",
    "# Dictionary to store the number of outliers for each feature\n",
    "outlier_counts = {}\n",
    "\n",
    "for feature in features:\n",
    "    Q1 = diabetes[feature].quantile(0.25)  # First quartile (25th percentile)\n",
    "    Q3 = diabetes[feature].quantile(0.75)  # Third quartile (75th percentile)\n",
    "    IQR = Q3 - Q1  # Interquartile Range\n",
    "    lower = Q1 - 1.5 * IQR  # Lower bound for outliers\n",
    "    upper = Q3 + 1.5 * IQR  # Upper bound for outliers\n",
    "    \n",
    "    # Count the number of outliers\n",
    "    num_outliers = ((diabetes[feature] < lower) | (diabetes[feature] > upper)).sum()\n",
    "    \n",
    "    # Store in dictionary\n",
    "    outlier_counts[feature] = num_outliers\n",
    "\n",
    "# Convert dictionary to DataFrame for better visualization\n",
    "outlier_df = pd.DataFrame(list(outlier_counts.items()), columns=['Feature', 'Outlier Count'])\n",
    "\n",
    "# Display the outlier counts in table format\n",
    "print(outlier_df)\n"
   ]
  },
  {
   "cell_type": "code",
   "execution_count": 6,
   "id": "97d3c78d-28fc-4a57-a76a-d262be6958dc",
   "metadata": {},
   "outputs": [
    {
     "name": "stderr",
     "output_type": "stream",
     "text": [
      "C:\\Users\\sajiv\\AppData\\Local\\Temp\\ipykernel_6172\\3522423560.py:8: FutureWarning: Setting an item of incompatible dtype is deprecated and will raise in a future error of pandas. Value '318.125' has dtype incompatible with int64, please explicitly cast to a compatible dtype first.\n",
      "  diabetes.loc[diabetes[\"Insulin\"]>upper,\"Insulin\"]=upper\n"
     ]
    }
   ],
   "source": [
    "#conducting a stand alone observation review for the insulin variable\n",
    "#suppressing contradictory values\n",
    "Q1=diabetes.Insulin.quantile(0.25)\n",
    "Q3=diabetes.Insulin.quantile(0.75)\n",
    "IQR=Q3-Q1\n",
    "lower=Q3-1.5*IQR\n",
    "upper=Q3+1.5*IQR\n",
    "diabetes.loc[diabetes[\"Insulin\"]>upper,\"Insulin\"]=upper"
   ]
  },
  {
   "cell_type": "code",
   "execution_count": 9,
   "id": "102bf53c-583c-41e4-9b04-ca7a30205557",
   "metadata": {},
   "outputs": [
    {
     "data": {
      "image/png": "[encoded data removed]",
      "text/plain": [
       "<Figure size 800x400 with 1 Axes>"
      ]
     },
     "metadata": {},
     "output_type": "display_data"
    }
   ],
   "source": [
    "#outlier observation of insulin\n",
    "import seaborn as sns\n",
    "import matplotlib.pyplot as plt\n",
    "plt.figure(figsize=(8,4))\n",
    "sns.boxplot(x=diabetes[\"Insulin\"],color='red');"
   ]
  },
  {
   "cell_type": "code",
   "execution_count": 10,
   "id": "3521df08-0450-4f31-a89a-8175179a3664",
   "metadata": {},
   "outputs": [
    {
     "name": "stdout",
     "output_type": "stream",
     "text": [
      "                    Feature  Outlier Count\n",
      "0               Pregnancies              4\n",
      "1                   Glucose              5\n",
      "2             BloodPressure             45\n",
      "3             SkinThickness              1\n",
      "4                   Insulin              0\n",
      "5                       BMI             19\n",
      "6  DiabetesPedigreeFunction             29\n",
      "7                       Age              9\n"
     ]
    }
   ],
   "source": [
    "# Exclude the target variable 'Outcome'\n",
    "features = diabetes.columns.drop(\"Outcome\")  \n",
    "\n",
    "# Dictionary to store the number of outliers for each feature\n",
    "outlier_counts = {}\n",
    "\n",
    "for feature in features:\n",
    "    Q1 = diabetes[feature].quantile(0.25)  # First quartile (25th percentile)\n",
    "    Q3 = diabetes[feature].quantile(0.75)  # Third quartile (75th percentile)\n",
    "    IQR = Q3 - Q1  # Interquartile Range\n",
    "    lower = Q1 - 1.5 * IQR  # Lower bound for outliers\n",
    "    upper = Q3 + 1.5 * IQR  # Upper bound for outliers\n",
    "    \n",
    "    # Count the number of outliers\n",
    "    num_outliers = ((diabetes[feature] < lower) | (diabetes[feature] > upper)).sum()\n",
    "    \n",
    "    # Store in dictionary\n",
    "    outlier_counts[feature] = num_outliers\n",
    "\n",
    "# Convert dictionary to DataFrame for better visualization\n",
    "outlier_df = pd.DataFrame(list(outlier_counts.items()), columns=['Feature', 'Outlier Count'])\n",
    "\n",
    "# Display the outlier counts in table format\n",
    "print(outlier_df)\n"
   ]
  },
  {
   "cell_type": "code",
   "execution_count": 11,
   "id": "95318f3b-a50d-4651-b615-b8f0a58b3319",
   "metadata": {},
   "outputs": [
    {
     "name": "stdout",
     "output_type": "stream",
     "text": [
      "Original dataset shape: (768, 9)\n",
      "Cleaned dataset shape: (669, 9)\n"
     ]
    }
   ],
   "source": [
    "# Exclude the target variable 'Outcome'\n",
    "features = diabetes.columns.drop(\"Outcome\")  \n",
    "\n",
    "# Create a copy of the dataset to avoid modifying the original\n",
    "diabetes_cleaned = diabetes.copy()\n",
    "\n",
    "for feature in features:\n",
    "    Q1 = diabetes_cleaned[feature].quantile(0.25)  # First quartile (25th percentile)\n",
    "    Q3 = diabetes_cleaned[feature].quantile(0.75)  # Third quartile (75th percentile)\n",
    "    IQR = Q3 - Q1  # Interquartile Range\n",
    "    lower = Q1 - 1.5 * IQR  # Lower bound for outliers\n",
    "    upper = Q3 + 1.5 * IQR  # Upper bound for outliers\n",
    "\n",
    "    # Remove rows that have outliers in the feature\n",
    "    diabetes_cleaned = diabetes_cleaned[(diabetes_cleaned[feature] >= lower) & (diabetes_cleaned[feature] <= upper)]\n",
    "\n",
    "# Display the shape of the dataset before and after removing outliers\n",
    "print(\"Original dataset shape:\", diabetes.shape)\n",
    "print(\"Cleaned dataset shape:\", diabetes_cleaned.shape)\n"
   ]
  },
  {
   "cell_type": "code",
   "execution_count": 12,
   "id": "b66478c0-5c74-429f-9229-bdaf5e465119",
   "metadata": {},
   "outputs": [
    {
     "name": "stdout",
     "output_type": "stream",
     "text": [
      "                    Feature  Outlier Count\n",
      "0               Pregnancies              4\n",
      "1                   Glucose              5\n",
      "2             BloodPressure             45\n",
      "3             SkinThickness              1\n",
      "4                   Insulin              0\n",
      "5                       BMI             19\n",
      "6  DiabetesPedigreeFunction             29\n",
      "7                       Age              9\n"
     ]
    }
   ],
   "source": [
    "# Exclude the target variable 'Outcome'\n",
    "features = diabetes.columns.drop(\"Outcome\")  \n",
    "\n",
    "# Dictionary to store the number of outliers for each feature\n",
    "outlier_counts = {}\n",
    "\n",
    "for feature in features:\n",
    "    Q1 = diabetes[feature].quantile(0.25)  # First quartile (25th percentile)\n",
    "    Q3 = diabetes[feature].quantile(0.75)  # Third quartile (75th percentile)\n",
    "    IQR = Q3 - Q1  # Interquartile Range\n",
    "    lower = Q1 - 1.5 * IQR  # Lower bound for outliers\n",
    "    upper = Q3 + 1.5 * IQR  # Upper bound for outliers\n",
    "    \n",
    "    # Count the number of outliers\n",
    "    num_outliers = ((diabetes[feature] < lower) | (diabetes[feature] > upper)).sum()\n",
    "    \n",
    "    # Store in dictionary\n",
    "    outlier_counts[feature] = num_outliers\n",
    "\n",
    "# Convert dictionary to DataFrame for better visualization\n",
    "outlier_df = pd.DataFrame(list(outlier_counts.items()), columns=['Feature', 'Outlier Count'])\n",
    "\n",
    "# Display the outlier counts in table format\n",
    "print(outlier_df)\n"
   ]
  },
  {
   "cell_type": "code",
   "execution_count": 15,
   "id": "48f57ec3-6724-464f-ad8f-6c273e008c7c",
   "metadata": {},
   "outputs": [],
   "source": [
    "#conducting a stand alone observation review for the insulin variable\n",
    "#suppressing contradictory values\n",
    "Q1=diabetes.BloodPressure.quantile(0.25)\n",
    "Q3=diabetes.BloodPressure.quantile(0.75)\n",
    "IQR=Q3-Q1\n",
    "lower=Q3-1.5*IQR\n",
    "upper=Q3+1.5*IQR\n",
    "diabetes.loc[diabetes[\"BloodPressure\"]>upper,\"BloodPressure\"]=upper"
   ]
  },
  {
   "cell_type": "code",
   "execution_count": 16,
   "id": "1b806e51-c41d-4eb9-a923-0b0996a7642f",
   "metadata": {},
   "outputs": [
    {
     "name": "stdout",
     "output_type": "stream",
     "text": [
      "                    Feature  Outlier Count\n",
      "0               Pregnancies              4\n",
      "1                   Glucose              5\n",
      "2             BloodPressure             38\n",
      "3             SkinThickness              1\n",
      "4                   Insulin              0\n",
      "5                       BMI             19\n",
      "6  DiabetesPedigreeFunction             29\n",
      "7                       Age              9\n"
     ]
    }
   ],
   "source": [
    "# Exclude the target variable 'Outcome'\n",
    "features = diabetes.columns.drop(\"Outcome\")  \n",
    "\n",
    "# Dictionary to store the number of outliers for each feature\n",
    "outlier_counts = {}\n",
    "\n",
    "for feature in features:\n",
    "    Q1 = diabetes[feature].quantile(0.25)  # First quartile (25th percentile)\n",
    "    Q3 = diabetes[feature].quantile(0.75)  # Third quartile (75th percentile)\n",
    "    IQR = Q3 - Q1  # Interquartile Range\n",
    "    lower = Q1 - 1.5 * IQR  # Lower bound for outliers\n",
    "    upper = Q3 + 1.5 * IQR  # Upper bound for outliers\n",
    "    \n",
    "    # Count the number of outliers\n",
    "    num_outliers = ((diabetes[feature] < lower) | (diabetes[feature] > upper)).sum()\n",
    "    \n",
    "    # Store in dictionary\n",
    "    outlier_counts[feature] = num_outliers\n",
    "\n",
    "# Convert dictionary to DataFrame for better visualization\n",
    "outlier_df = pd.DataFrame(list(outlier_counts.items()), columns=['Feature', 'Outlier Count'])\n",
    "\n",
    "# Display the outlier counts in table format\n",
    "print(outlier_df)\n"
   ]
  },
  {
   "cell_type": "code",
   "execution_count": null,
   "id": "c6481b34-3cf1-45d0-9081-f4233d501919",
   "metadata": {},
   "outputs": [],
   "source": []
  }
 ],
 "metadata": {
  "kernelspec": {
   "display_name": "Python 3 (ipykernel)",
   "language": "python",
   "name": "python3"
  },
  "language_info": {
   "codemirror_mode": {
    "name": "ipython",
    "version": 3
   },
   "file_extension": ".py",
   "mimetype": "text/x-python",
   "name": "python",
   "nbconvert_exporter": "python",
   "pygments_lexer": "ipython3",
   "version": "3.11.4"
  }
 },
 "nbformat": 4,
 "nbformat_minor": 5
}
